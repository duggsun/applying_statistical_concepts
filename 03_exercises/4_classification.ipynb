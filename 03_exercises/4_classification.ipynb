{
 "cells": [
  {
   "cell_type": "markdown",
   "id": "b2d65d0f-c2a0-462e-9f37-96917af2dcb1",
   "metadata": {},
   "source": [
    "# Classification Exercises"
   ]
  },
  {
   "cell_type": "markdown",
   "id": "eb710870-1b5c-4338-9457-e2d8582b8c9c",
   "metadata": {},
   "source": [
    "## Getting Started\n",
    "\n",
    "### Import Libraries \n",
    "\n",
    "We import our standard libraries and specific objects/libraries at the top level of our notebook."
   ]
  },
  {
   "cell_type": "code",
   "execution_count": 1,
   "id": "13747451-369c-4b0b-9366-3fb829982ee9",
   "metadata": {},
   "outputs": [],
   "source": [
    "# Import libraries and objects\n",
    "import numpy as np\n",
    "from ISLP import load_data\n",
    "from ISLP.models import ModelSpec as MS\n",
    "import warnings \n",
    "warnings.filterwarnings('ignore') # mute warning messages\n",
    "from ISLP import confusion_table\n",
    "from sklearn.neighbors import KNeighborsClassifier"
   ]
  },
  {
   "cell_type": "markdown",
   "id": "0faad588-7276-4949-9742-a5b45f7646d0",
   "metadata": {},
   "source": [
    "First, load our `Smarket` data."
   ]
  },
  {
   "cell_type": "code",
   "execution_count": 2,
   "id": "4066a916-ed0b-49ee-aad4-ec07d0d4fb03",
   "metadata": {},
   "outputs": [
    {
     "data": {
      "text/html": [
       "<div>\n",
       "<style scoped>\n",
       "    .dataframe tbody tr th:only-of-type {\n",
       "        vertical-align: middle;\n",
       "    }\n",
       "\n",
       "    .dataframe tbody tr th {\n",
       "        vertical-align: top;\n",
       "    }\n",
       "\n",
       "    .dataframe thead th {\n",
       "        text-align: right;\n",
       "    }\n",
       "</style>\n",
       "<table border=\"1\" class=\"dataframe\">\n",
       "  <thead>\n",
       "    <tr style=\"text-align: right;\">\n",
       "      <th></th>\n",
       "      <th>Year</th>\n",
       "      <th>Lag1</th>\n",
       "      <th>Lag2</th>\n",
       "      <th>Lag3</th>\n",
       "      <th>Lag4</th>\n",
       "      <th>Lag5</th>\n",
       "      <th>Volume</th>\n",
       "      <th>Today</th>\n",
       "      <th>Direction</th>\n",
       "    </tr>\n",
       "  </thead>\n",
       "  <tbody>\n",
       "    <tr>\n",
       "      <th>0</th>\n",
       "      <td>2001</td>\n",
       "      <td>0.381</td>\n",
       "      <td>-0.192</td>\n",
       "      <td>-2.624</td>\n",
       "      <td>-1.055</td>\n",
       "      <td>5.010</td>\n",
       "      <td>1.19130</td>\n",
       "      <td>0.959</td>\n",
       "      <td>Up</td>\n",
       "    </tr>\n",
       "    <tr>\n",
       "      <th>1</th>\n",
       "      <td>2001</td>\n",
       "      <td>0.959</td>\n",
       "      <td>0.381</td>\n",
       "      <td>-0.192</td>\n",
       "      <td>-2.624</td>\n",
       "      <td>-1.055</td>\n",
       "      <td>1.29650</td>\n",
       "      <td>1.032</td>\n",
       "      <td>Up</td>\n",
       "    </tr>\n",
       "    <tr>\n",
       "      <th>2</th>\n",
       "      <td>2001</td>\n",
       "      <td>1.032</td>\n",
       "      <td>0.959</td>\n",
       "      <td>0.381</td>\n",
       "      <td>-0.192</td>\n",
       "      <td>-2.624</td>\n",
       "      <td>1.41120</td>\n",
       "      <td>-0.623</td>\n",
       "      <td>Down</td>\n",
       "    </tr>\n",
       "    <tr>\n",
       "      <th>3</th>\n",
       "      <td>2001</td>\n",
       "      <td>-0.623</td>\n",
       "      <td>1.032</td>\n",
       "      <td>0.959</td>\n",
       "      <td>0.381</td>\n",
       "      <td>-0.192</td>\n",
       "      <td>1.27600</td>\n",
       "      <td>0.614</td>\n",
       "      <td>Up</td>\n",
       "    </tr>\n",
       "    <tr>\n",
       "      <th>4</th>\n",
       "      <td>2001</td>\n",
       "      <td>0.614</td>\n",
       "      <td>-0.623</td>\n",
       "      <td>1.032</td>\n",
       "      <td>0.959</td>\n",
       "      <td>0.381</td>\n",
       "      <td>1.20570</td>\n",
       "      <td>0.213</td>\n",
       "      <td>Up</td>\n",
       "    </tr>\n",
       "    <tr>\n",
       "      <th>...</th>\n",
       "      <td>...</td>\n",
       "      <td>...</td>\n",
       "      <td>...</td>\n",
       "      <td>...</td>\n",
       "      <td>...</td>\n",
       "      <td>...</td>\n",
       "      <td>...</td>\n",
       "      <td>...</td>\n",
       "      <td>...</td>\n",
       "    </tr>\n",
       "    <tr>\n",
       "      <th>1245</th>\n",
       "      <td>2005</td>\n",
       "      <td>0.422</td>\n",
       "      <td>0.252</td>\n",
       "      <td>-0.024</td>\n",
       "      <td>-0.584</td>\n",
       "      <td>-0.285</td>\n",
       "      <td>1.88850</td>\n",
       "      <td>0.043</td>\n",
       "      <td>Up</td>\n",
       "    </tr>\n",
       "    <tr>\n",
       "      <th>1246</th>\n",
       "      <td>2005</td>\n",
       "      <td>0.043</td>\n",
       "      <td>0.422</td>\n",
       "      <td>0.252</td>\n",
       "      <td>-0.024</td>\n",
       "      <td>-0.584</td>\n",
       "      <td>1.28581</td>\n",
       "      <td>-0.955</td>\n",
       "      <td>Down</td>\n",
       "    </tr>\n",
       "    <tr>\n",
       "      <th>1247</th>\n",
       "      <td>2005</td>\n",
       "      <td>-0.955</td>\n",
       "      <td>0.043</td>\n",
       "      <td>0.422</td>\n",
       "      <td>0.252</td>\n",
       "      <td>-0.024</td>\n",
       "      <td>1.54047</td>\n",
       "      <td>0.130</td>\n",
       "      <td>Up</td>\n",
       "    </tr>\n",
       "    <tr>\n",
       "      <th>1248</th>\n",
       "      <td>2005</td>\n",
       "      <td>0.130</td>\n",
       "      <td>-0.955</td>\n",
       "      <td>0.043</td>\n",
       "      <td>0.422</td>\n",
       "      <td>0.252</td>\n",
       "      <td>1.42236</td>\n",
       "      <td>-0.298</td>\n",
       "      <td>Down</td>\n",
       "    </tr>\n",
       "    <tr>\n",
       "      <th>1249</th>\n",
       "      <td>2005</td>\n",
       "      <td>-0.298</td>\n",
       "      <td>0.130</td>\n",
       "      <td>-0.955</td>\n",
       "      <td>0.043</td>\n",
       "      <td>0.422</td>\n",
       "      <td>1.38254</td>\n",
       "      <td>-0.489</td>\n",
       "      <td>Down</td>\n",
       "    </tr>\n",
       "  </tbody>\n",
       "</table>\n",
       "<p>1250 rows × 9 columns</p>\n",
       "</div>"
      ],
      "text/plain": [
       "      Year   Lag1   Lag2   Lag3   Lag4   Lag5   Volume  Today Direction\n",
       "0     2001  0.381 -0.192 -2.624 -1.055  5.010  1.19130  0.959        Up\n",
       "1     2001  0.959  0.381 -0.192 -2.624 -1.055  1.29650  1.032        Up\n",
       "2     2001  1.032  0.959  0.381 -0.192 -2.624  1.41120 -0.623      Down\n",
       "3     2001 -0.623  1.032  0.959  0.381 -0.192  1.27600  0.614        Up\n",
       "4     2001  0.614 -0.623  1.032  0.959  0.381  1.20570  0.213        Up\n",
       "...    ...    ...    ...    ...    ...    ...      ...    ...       ...\n",
       "1245  2005  0.422  0.252 -0.024 -0.584 -0.285  1.88850  0.043        Up\n",
       "1246  2005  0.043  0.422  0.252 -0.024 -0.584  1.28581 -0.955      Down\n",
       "1247  2005 -0.955  0.043  0.422  0.252 -0.024  1.54047  0.130        Up\n",
       "1248  2005  0.130 -0.955  0.043  0.422  0.252  1.42236 -0.298      Down\n",
       "1249  2005 -0.298  0.130 -0.955  0.043  0.422  1.38254 -0.489      Down\n",
       "\n",
       "[1250 rows x 9 columns]"
      ]
     },
     "execution_count": 2,
     "metadata": {},
     "output_type": "execute_result"
    }
   ],
   "source": [
    "Smarket = load_data('Smarket')\n",
    "Smarket"
   ]
  },
  {
   "cell_type": "markdown",
   "id": "8f638ab4-4681-48cf-8edc-f441ff7bdbda",
   "metadata": {},
   "source": [
    "We can view the variables names."
   ]
  },
  {
   "cell_type": "code",
   "execution_count": 3,
   "id": "c182787f-eeb5-4826-a928-fd48442bd248",
   "metadata": {},
   "outputs": [
    {
     "data": {
      "text/plain": [
       "Index(['Year', 'Lag1', 'Lag2', 'Lag3', 'Lag4', 'Lag5', 'Volume', 'Today',\n",
       "       'Direction'],\n",
       "      dtype='object')"
      ]
     },
     "execution_count": 3,
     "metadata": {},
     "output_type": "execute_result"
    }
   ],
   "source": [
    "Smarket.columns"
   ]
  },
  {
   "cell_type": "markdown",
   "id": "16a3d6e4-ff46-4fdf-9730-7c0c457c5339",
   "metadata": {},
   "source": [
    "### K-Nearest Neighbors\n",
    "\n",
    "We will now perform KNN using the `KNeighborsClassifier()` function. This function is similar\n",
    "to the other model-fitting functions we've used throughout these exercises."
   ]
  },
  {
   "cell_type": "code",
   "execution_count": 4,
   "id": "d18870a9-9be9-4ebf-8781-0875f2ae835c",
   "metadata": {},
   "outputs": [
    {
     "data": {
      "text/plain": [
       "(252, 9)"
      ]
     },
     "execution_count": 4,
     "metadata": {},
     "output_type": "execute_result"
    }
   ],
   "source": [
    "#### STEP 1: DATA PREP\n",
    "    # Remove columns not required for modeling from main data source\n",
    "allvars = Smarket.columns.drop(['Today', 'Direction', 'Year'])\n",
    "''' \n",
    "MS is a package that helps you prepare the data prior to modeling. \n",
    "Without going into too much details, this is what it does (not in any specific order): \n",
    "\n",
    "1. Transform data into a structured format (think tables)\n",
    "2. Add a new column as a constant with value of 1 (remember intercept from linear regression?)\n",
    "3. Standardize numerical values (we haven't gone over this concept yet)\n",
    "4. Encodes any categorical variables. This means MS package converts categorical variable values \n",
    "into boolean True/False columns. \n",
    "   In Smarket, there aren't any categorical values such as high/low. But if you are ever working \n",
    "   with a data set that has such categories, High would be a new column with True/False, Low would \n",
    "   be a new column with True/False.\n",
    "\n",
    "Conclusion: Above 4 steps are very typical when preparing data required for modelling. MS just helps\n",
    " you speed up the process by not having to write python code to do the data transformations.\n",
    " \n",
    "'''\n",
    "# Run the MS data prep functions on the columns you chose to keep for modeling\n",
    "design = MS(allvars)\n",
    "\n",
    "# Train on datapoints that are prior to 2005\n",
    "train = (Smarket.Year < 2005)\n",
    "\n",
    "############## NOT USED IN MODELING BELOW. CAN BE REMOVED\n",
    "    # Filter original data for rows that are 'True'. This leaves you with data points that are before 2005. \n",
    "    # Store the filtered data in a new variable to use for training in a structured tabular format.\n",
    "Smarket_train = Smarket.loc[train]\n",
    "    # Filter original data for rows that are 'False'. This leaves you with data points that are not \n",
    "    # before 2005 Store the filtered data in a new variable to use for testing in a structured tabular \n",
    "    # format.\n",
    "Smarket_test = Smarket.loc[~train]\n",
    " # This is to see the shape of the table you created as testing data.\n",
    "Smarket_test.shape"
   ]
  },
  {
   "cell_type": "code",
   "execution_count": 38,
   "id": "256a763f-bcc4-45df-bdae-2c9f29c7dd85",
   "metadata": {},
   "outputs": [
    {
     "data": {
      "text/html": [
       "<div>\n",
       "<style scoped>\n",
       "    .dataframe tbody tr th:only-of-type {\n",
       "        vertical-align: middle;\n",
       "    }\n",
       "\n",
       "    .dataframe tbody tr th {\n",
       "        vertical-align: top;\n",
       "    }\n",
       "\n",
       "    .dataframe thead th {\n",
       "        text-align: right;\n",
       "    }\n",
       "</style>\n",
       "<table border=\"1\" class=\"dataframe\">\n",
       "  <thead>\n",
       "    <tr style=\"text-align: right;\">\n",
       "      <th>Truth</th>\n",
       "      <th>Down</th>\n",
       "      <th>Up</th>\n",
       "    </tr>\n",
       "    <tr>\n",
       "      <th>Predicted</th>\n",
       "      <th></th>\n",
       "      <th></th>\n",
       "    </tr>\n",
       "  </thead>\n",
       "  <tbody>\n",
       "    <tr>\n",
       "      <th>Down</th>\n",
       "      <td>56</td>\n",
       "      <td>59</td>\n",
       "    </tr>\n",
       "    <tr>\n",
       "      <th>Up</th>\n",
       "      <td>55</td>\n",
       "      <td>82</td>\n",
       "    </tr>\n",
       "  </tbody>\n",
       "</table>\n",
       "</div>"
      ],
      "text/plain": [
       "Truth      Down  Up\n",
       "Predicted          \n",
       "Down         56  59\n",
       "Up           55  82"
      ]
     },
     "execution_count": 38,
     "metadata": {},
     "output_type": "execute_result"
    }
   ],
   "source": [
    "# Identify the list of explanatory variables by using fit_transform package to identify the most \n",
    "# important variables.\n",
    "    ## Not exactly sure on the methodology used to identify the most important variables. \n",
    "    # ISLP document isn't clear enough \n",
    "    # (https://islp.readthedocs.io/en/latest/api/generated/ISLP.models.generic_selector.html#ISLP.models.generic_selector.FeatureSelector.fit_transform)\n",
    "X = design.fit_transform(Smarket)\n",
    "\n",
    "#### STEP 2: SPLIT DATA INTO TRAIN & TEST\n",
    "# We split the data into testing and training for both X and Y\n",
    "X_train, X_test = X.loc[train], X.loc[~train]\n",
    "\n",
    "# Define the variable you are trying to predict.\n",
    "D = Smarket.Direction\n",
    "\n",
    "# L is basically Y\n",
    "L_train, L_test = D.loc[train], D.loc[~train]\n",
    "\n",
    "#### STEP 3: TRAIN THE MODEL\n",
    "# Create an instance of the model. \n",
    "knn1 = KNeighborsClassifier(n_neighbors=7) # API reference: https://scikit-learn.org/stable/modules/generated/sklearn.neighbors.KNeighborsClassifier.html\n",
    "\n",
    "# Convert data into required format for the model to process\n",
    "X_train, X_test = [np.asarray(X) for X in [X_train, X_test]]\n",
    "\n",
    "# Fit the model using X & y training data. \n",
    "knn1.fit(X_train, L_train)\n",
    "\n",
    "#### STEP 4: PREDICT USING MODEL\n",
    "# Predict results using x test data.\n",
    "knn1_pred = knn1.predict(X_test)\n",
    "\n",
    "# Compare predicted results against actual results stored found in y test data.\n",
    "confusion_table(knn1_pred, L_test)"
   ]
  },
  {
   "cell_type": "markdown",
   "id": "a8cea554-fd9e-4c92-85f6-c656aa321589",
   "metadata": {},
   "source": [
    "The results using $K=1$ are not very good, since only $50%$ of the\n",
    "observations are correctly predicted. Of course, it may be that $K=1$\n",
    "results in an overly-flexible fit to the data."
   ]
  },
  {
   "cell_type": "code",
   "execution_count": 39,
   "id": "7a360d4a-e304-4431-9cf5-2516f00e3448",
   "metadata": {},
   "outputs": [
    {
     "data": {
      "text/plain": [
       "0.5476190476190477"
      ]
     },
     "execution_count": 39,
     "metadata": {},
     "output_type": "execute_result"
    }
   ],
   "source": [
    "np.mean(knn1_pred == L_test)"
   ]
  },
  {
   "cell_type": "markdown",
   "id": "4b6f4213-f6fc-47ca-8f3c-771c8a0843d3",
   "metadata": {},
   "source": [
    "As we can see KNN for $K=1$ only gives 50% accuracy which is no better than random chance. \n",
    "\n",
    "**Try running\n",
    "KNN for several values of K and summarize the results for the best model you find.\n",
    "Out of all the classification methods we tried, which performs best on the Smarket data? Give\n",
    "some explanation for why that might be.**"
   ]
  },
  {
   "cell_type": "markdown",
   "id": "11670164-eea7-4dd7-b672-9ee883467af6",
   "metadata": {},
   "source": [
    "*These exercises were adapted from :* James, Gareth, et al. An Introduction to Statistical Learning: with Applications in Python, Springer, 2023."
   ]
  }
 ],
 "metadata": {
  "kernelspec": {
   "display_name": "Python 3",
   "language": "python",
   "name": "python3"
  },
  "language_info": {
   "codemirror_mode": {
    "name": "ipython",
    "version": 3
   },
   "file_extension": ".py",
   "mimetype": "text/x-python",
   "name": "python",
   "nbconvert_exporter": "python",
   "pygments_lexer": "ipython3",
   "version": "3.9.15"
  }
 },
 "nbformat": 4,
 "nbformat_minor": 5
}
